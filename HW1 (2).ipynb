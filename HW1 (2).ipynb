{
 "cells": [
  {
   "cell_type": "markdown",
   "id": "09ba9d20-b8d5-41e4-bb50-1bb16dc7ebc1",
   "metadata": {},
   "source": [
    "На складе лежат разные фрукты в разном количестве.\n",
    "Нужно написать функцию, которая на вход принимает любое количество названий фруктов и их количество, а возвращает общее количество фруктов на складе"
   ]
  },
  {
   "cell_type": "code",
   "execution_count": 19,
   "id": "0c0a40bd-31e2-48b4-8f95-01a59b38680a",
   "metadata": {},
   "outputs": [],
   "source": [
    "def total_fruits(dict):\n",
    "    total=sum(dict.values())\n",
    "    return(total)\n"
   ]
  },
  {
   "cell_type": "code",
   "execution_count": 21,
   "id": "c4c4caef-f4e3-458a-b3cd-1336080417d8",
   "metadata": {},
   "outputs": [
    {
     "data": {
      "text/plain": [
       "1400"
      ]
     },
     "execution_count": 21,
     "metadata": {},
     "output_type": "execute_result"
    }
   ],
   "source": [
    "dict = {\n",
    "    'apple':300,\n",
    "    'orange':500,\n",
    "    'banana':600,}\n",
    "total_fruits(dict)\n",
    "\n"
   ]
  },
  {
   "cell_type": "markdown",
   "id": "ebcb332f-fd43-44f4-8384-dfffc8b1a884",
   "metadata": {},
   "source": [
    "Дан список с затратами на рекламу. Но в данных есть ошибки, некоторые затраты имеют отрицательную величину. Удалите такие значения из списка и посчитайте суммарные затраты\n",
    "Используйте list comprehensions"
   ]
  },
  {
   "cell_type": "code",
   "execution_count": 51,
   "id": "02efa64f-1298-455d-80e5-5ec6b68c9796",
   "metadata": {},
   "outputs": [
    {
     "name": "stdout",
     "output_type": "stream",
     "text": [
      "[100, 125, 345, 655, 0, 200]\n",
      "1425\n"
     ]
    }
   ],
   "source": [
    "list = [100, 125, -90, 345, 655, -1, 0, 200]\n",
    "#list2 = [i if i > 0 else 0 for i in list ]\n",
    "list2 = [i for i in list if i >= 0]\n",
    "print(list2)\n",
    "sum = 0\n",
    "for i in list2:\n",
    "    sum +=i\n",
    "print(sum)\n",
    "\n",
    "\n",
    "\n",
    "\n",
    "\n",
    "\n",
    "\n",
    "\n",
    "\n",
    "\n",
    "\n",
    "\n"
   ]
  },
  {
   "cell_type": "markdown",
   "id": "a34013af-fc7c-4f7c-a993-1569c9a499b8",
   "metadata": {},
   "source": [
    "Даны два списка.\n",
    "Дата покупки, Суммы покупок по датам\n",
    "4.1 Найдите, какая выручка у компании в ноябре\n",
    "Используйте list comprehensions\n"
   ]
  },
  {
   "cell_type": "code",
   "execution_count": 53,
   "id": "4777b023-395a-4d3e-a74c-715373e7f91d",
   "metadata": {},
   "outputs": [],
   "source": [
    "date = ['2021-09-14', '2021-12-15', '2021-09-08', '2021-12-05', '2021-10-09', '2021-09-30', '2021-12-22', '2021-11-29', '2021-12-24', '2021-11-26', '2021-10-27', '2021-12-18', '2021-11-09', '2021-11-23', '2021-09-27', '2021-10-02', '2021-12-27', '2021-09-20', '2021-12-13', '2021-11-01', '2021-11-09', '2021-12-06', '2021-12-08', '2021-10-09', '2021-10-31', '2021-09-30', '2021-11-09', '2021-12-13', '2021-10-26', '2021-12-09']\n",
    "price = [1270, 8413, 9028, 3703, 5739, 4095, 295, 4944, 5723, 3701, 4471, 651, 7037, 4274, 6275, 4988, 6930, 2971, 6592, 2004, 2822, 519, 3406, 2732, 5015, 2008, 316, 6333, 5700, 2887]\n",
    "def make_dict(keys: list, values: list)->dict:\n",
    "    my_dict={}\n",
    "    for i in range(len(keys)):\n",
    "        my_dict.update({keys[i]: values[i]})\n",
    "    return my_dict"
   ]
  },
  {
   "cell_type": "code",
   "execution_count": 68,
   "id": "178e845a-7463-423b-a621-efafbab7a16b",
   "metadata": {},
   "outputs": [
    {
     "name": "stdout",
     "output_type": "stream",
     "text": [
      "{'2021-09-14': 1270, '2021-12-15': 8413, '2021-09-08': 9028, '2021-12-05': 3703, '2021-10-09': 2732, '2021-09-30': 2008, '2021-12-22': 295, '2021-11-29': 4944, '2021-12-24': 5723, '2021-11-26': 3701, '2021-10-27': 4471, '2021-12-18': 651, '2021-11-09': 316, '2021-11-23': 4274, '2021-09-27': 6275, '2021-10-02': 4988, '2021-12-27': 6930, '2021-09-20': 2971, '2021-12-13': 6333, '2021-11-01': 2004, '2021-12-06': 519, '2021-12-08': 3406, '2021-10-31': 5015, '2021-10-26': 5700, '2021-12-09': 2887}\n"
     ]
    }
   ],
   "source": [
    "dict = make_dict(date, price)\n",
    "print(dict)"
   ]
  },
  {
   "cell_type": "code",
   "execution_count": 75,
   "id": "ae34655e-aa15-4736-8054-7abcaed103bb",
   "metadata": {},
   "outputs": [
    {
     "name": "stdout",
     "output_type": "stream",
     "text": [
      "{'2021-11-29': 4944, '2021-11-26': 3701, '2021-11-09': 316, '2021-11-23': 4274, '2021-11-01': 2004}\n"
     ]
    }
   ],
   "source": [
    "dict_nov = {key: val for key, val in dict.items() if key in ('2021-11-29', '2021-11-26', '2021-11-09', '2021-11-23', '2021-11-01')}\n",
    "print(dict_nov)\n",
    "\n",
    "\n"
   ]
  },
  {
   "cell_type": "code",
   "execution_count": 78,
   "id": "0b1999dd-6d3b-4240-aff1-61d5a8bc8bb6",
   "metadata": {},
   "outputs": [
    {
     "ename": "TypeError",
     "evalue": "'int' object is not callable",
     "output_type": "error",
     "traceback": [
      "\u001b[0;31m---------------------------------------------------------------------------\u001b[0m",
      "\u001b[0;31mTypeError\u001b[0m                                 Traceback (most recent call last)",
      "Input \u001b[0;32mIn [78]\u001b[0m, in \u001b[0;36m<cell line: 1>\u001b[0;34m()\u001b[0m\n\u001b[0;32m----> 1\u001b[0m \u001b[38;5;28mprint\u001b[39m(\u001b[38;5;28;43msum\u001b[39;49m\u001b[43m(\u001b[49m\u001b[43mdict_nov\u001b[49m\u001b[38;5;241;43m.\u001b[39;49m\u001b[43mvalues\u001b[49m\u001b[43m(\u001b[49m\u001b[43m)\u001b[49m\u001b[43m)\u001b[49m)\n",
      "\u001b[0;31mTypeError\u001b[0m: 'int' object is not callable"
     ]
    }
   ],
   "source": [
    "print(sum(dict_nov.values()))\n"
   ]
  },
  {
   "cell_type": "code",
   "execution_count": null,
   "id": "a29c247c-f924-4990-b0f6-2ed3771af5d5",
   "metadata": {},
   "outputs": [],
   "source": []
  }
 ],
 "metadata": {
  "kernelspec": {
   "display_name": "anaconda-2022.05-py39",
   "language": "python",
   "name": "conda-env-anaconda-2022.05-py39-py"
  },
  "language_info": {
   "codemirror_mode": {
    "name": "ipython",
    "version": 3
   },
   "file_extension": ".py",
   "mimetype": "text/x-python",
   "name": "python",
   "nbconvert_exporter": "python",
   "pygments_lexer": "ipython3",
   "version": "3.9.12"
  }
 },
 "nbformat": 4,
 "nbformat_minor": 5
}
